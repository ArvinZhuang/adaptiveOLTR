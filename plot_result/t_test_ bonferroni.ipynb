{
 "cells": [
  {
   "cell_type": "code",
   "execution_count": 59,
   "metadata": {},
   "outputs": [],
   "source": [
    "import pickle\n",
    "import numpy as np\n",
    "from scipy.stats import ttest_ind\n",
    "import pandas as pd"
   ]
  },
  {
   "cell_type": "code",
   "execution_count": 267,
   "metadata": {},
   "outputs": [
    {
     "name": "stdout",
     "output_type": "stream",
     "text": [
      "0.16836495622565753\n"
     ]
    }
   ],
   "source": [
    "\n",
    "\n",
    "def get_data(dataset, click_model, rate,fold):\n",
    "    with open(\"{}/fold{}/{}_{}_fold{}_run1_ndcg.txt\".format(dataset,fold,click_model,rate,fold), \"rb\") as fp:\n",
    "        data = pickle.load(fp)\n",
    "    data = np.array(data)\n",
    "    for r in range(24):\n",
    "        with open(\"{}/fold{}/{}_{}_fold{}_run{}_ndcg.txt\".format(dataset,fold,click_model,rate,fold,r + 2), \"rb\") as fp:\n",
    "            l = pickle.load(fp)\n",
    "            data = np.vstack((data, l))\n",
    "\n",
    "    data = data.T\n",
    "    return data[-1]\n",
    "\n",
    "\n",
    "data_adp= get_data('td2004_results','infor','adprate', 1)\n",
    "for f in range(2,6):\n",
    "    data_temp = get_data('td2004_results','infor','adprate', f)\n",
    "    data_adp = np.append(data_adp,data_temp)\n",
    "\n",
    "\n",
    "\n",
    "data = get_data('td2004_results','infor','rate05', 1)\n",
    "for f in range(2,6):\n",
    "    data_temp = get_data('td2004_results','infor','rate05', f)\n",
    "    data = np.append(data,data_temp)\n",
    "\n",
    "stat, p = ttest_ind(data, data_adp)\n",
    "\n",
    "print(p)\n",
    "    \n"
   ]
  },
  {
   "cell_type": "code",
   "execution_count": 268,
   "metadata": {},
   "outputs": [
    {
     "name": "stdout",
     "output_type": "stream",
     "text": [
      "The rpy2.ipython extension is already loaded. To reload it, use:\n",
      "  %reload_ext rpy2.ipython\n"
     ]
    }
   ],
   "source": [
    "%load_ext rpy2.ipython"
   ]
  },
  {
   "cell_type": "code",
   "execution_count": 269,
   "metadata": {},
   "outputs": [
    {
     "name": "stdout",
     "output_type": "stream",
     "text": [
      "[1] 0.00729386\n"
     ]
    }
   ],
   "source": [
    "%%R -i data_adp -i data -w 5 -h 5 --units in -r 200\n",
    "t.test(data_adp, data, p.adjust=\"bonferroni\", paired=TRUE)$p.value"
   ]
  },
  {
   "cell_type": "markdown",
   "metadata": {},
   "source": [
    "# "
   ]
  },
  {
   "cell_type": "code",
   "execution_count": null,
   "metadata": {},
   "outputs": [],
   "source": []
  },
  {
   "cell_type": "code",
   "execution_count": null,
   "metadata": {},
   "outputs": [],
   "source": []
  }
 ],
 "metadata": {
  "kernelspec": {
   "display_name": "Python 3",
   "language": "python",
   "name": "python3"
  },
  "language_info": {
   "codemirror_mode": {
    "name": "ipython",
    "version": 3
   },
   "file_extension": ".py",
   "mimetype": "text/x-python",
   "name": "python",
   "nbconvert_exporter": "python",
   "pygments_lexer": "ipython3",
   "version": "3.7.1"
  }
 },
 "nbformat": 4,
 "nbformat_minor": 2
}
